{
 "cells": [
  {
   "cell_type": "markdown",
   "metadata": {},
   "source": [
    "# Analysis of Big Data from New York Citibike Rentals"
   ]
  },
  {
   "cell_type": "code",
   "execution_count": null,
   "metadata": {},
   "outputs": [],
   "source": [
    "# from google.cloud import bigquery\n",
    "# To ensure this runs  ok, you need to have google-cloud-bigquery installed. If you get an error after running this,\n",
    "# type 'pip install google-cloud-bigquery' on your command prompt and run this again. \n",
    "\n",
    "#import pandas as pd"
   ]
  },
  {
   "cell_type": "code",
   "execution_count": null,
   "metadata": {},
   "outputs": [],
   "source": [
    "# !pip show google-cloud-bigquery"
   ]
  },
  {
   "cell_type": "code",
   "execution_count": null,
   "metadata": {},
   "outputs": [],
   "source": [
    "#!pip install pydata_google_auth\n",
    "#import pydata_google_auth\n",
    "# If you get an error, it's because pydata_google_auth is not installed. Install it by running pip install pydata_google_auth\n",
    "# in your command prompt.\n",
    "\n",
    "# credentials = pydata_google_auth.get_user_credentials(\n",
    " #   ['https://www.googleapis.com/auth/bigquery'],\n",
    "#)"
   ]
  },
  {
   "cell_type": "code",
   "execution_count": 21,
   "metadata": {},
   "outputs": [
    {
     "name": "stdout",
     "output_type": "stream",
     "text": [
      "Requirement already satisfied: pydata_google_auth in c:\\users\\bashi\\appdata\\local\\programs\\python\\python312\\lib\\site-packages (1.8.2)\n",
      "Requirement already satisfied: setuptools in c:\\users\\bashi\\appdata\\local\\programs\\python\\python312\\lib\\site-packages (from pydata_google_auth) (69.0.3)\n",
      "Requirement already satisfied: google-auth<3.0dev,>=1.25.0 in c:\\users\\bashi\\appdata\\local\\programs\\python\\python312\\lib\\site-packages (from pydata_google_auth) (2.25.2)\n",
      "Requirement already satisfied: google-auth-oauthlib>=0.4.0 in c:\\users\\bashi\\appdata\\local\\programs\\python\\python312\\lib\\site-packages (from pydata_google_auth) (1.2.0)\n",
      "Requirement already satisfied: cachetools<6.0,>=2.0.0 in c:\\users\\bashi\\appdata\\local\\programs\\python\\python312\\lib\\site-packages (from google-auth<3.0dev,>=1.25.0->pydata_google_auth) (5.3.2)\n",
      "Requirement already satisfied: pyasn1-modules>=0.2.1 in c:\\users\\bashi\\appdata\\local\\programs\\python\\python312\\lib\\site-packages (from google-auth<3.0dev,>=1.25.0->pydata_google_auth) (0.3.0)\n",
      "Requirement already satisfied: rsa<5,>=3.1.4 in c:\\users\\bashi\\appdata\\local\\programs\\python\\python312\\lib\\site-packages (from google-auth<3.0dev,>=1.25.0->pydata_google_auth) (4.9)\n",
      "Requirement already satisfied: requests-oauthlib>=0.7.0 in c:\\users\\bashi\\appdata\\local\\programs\\python\\python312\\lib\\site-packages (from google-auth-oauthlib>=0.4.0->pydata_google_auth) (1.3.1)\n",
      "Requirement already satisfied: pyasn1<0.6.0,>=0.4.6 in c:\\users\\bashi\\appdata\\local\\programs\\python\\python312\\lib\\site-packages (from pyasn1-modules>=0.2.1->google-auth<3.0dev,>=1.25.0->pydata_google_auth) (0.5.1)\n",
      "Requirement already satisfied: oauthlib>=3.0.0 in c:\\users\\bashi\\appdata\\local\\programs\\python\\python312\\lib\\site-packages (from requests-oauthlib>=0.7.0->google-auth-oauthlib>=0.4.0->pydata_google_auth) (3.2.2)\n",
      "Requirement already satisfied: requests>=2.0.0 in c:\\users\\bashi\\appdata\\local\\programs\\python\\python312\\lib\\site-packages (from requests-oauthlib>=0.7.0->google-auth-oauthlib>=0.4.0->pydata_google_auth) (2.31.0)\n",
      "Requirement already satisfied: charset-normalizer<4,>=2 in c:\\users\\bashi\\appdata\\local\\programs\\python\\python312\\lib\\site-packages (from requests>=2.0.0->requests-oauthlib>=0.7.0->google-auth-oauthlib>=0.4.0->pydata_google_auth) (3.3.2)\n",
      "Requirement already satisfied: idna<4,>=2.5 in c:\\users\\bashi\\appdata\\local\\programs\\python\\python312\\lib\\site-packages (from requests>=2.0.0->requests-oauthlib>=0.7.0->google-auth-oauthlib>=0.4.0->pydata_google_auth) (3.6)\n",
      "Requirement already satisfied: urllib3<3,>=1.21.1 in c:\\users\\bashi\\appdata\\local\\programs\\python\\python312\\lib\\site-packages (from requests>=2.0.0->requests-oauthlib>=0.7.0->google-auth-oauthlib>=0.4.0->pydata_google_auth) (2.1.0)\n",
      "Requirement already satisfied: certifi>=2017.4.17 in c:\\users\\bashi\\appdata\\local\\programs\\python\\python312\\lib\\site-packages (from requests>=2.0.0->requests-oauthlib>=0.7.0->google-auth-oauthlib>=0.4.0->pydata_google_auth) (2023.11.17)\n"
     ]
    },
    {
     "ename": "BadRequest",
     "evalue": "400 POST https://bigquery.googleapis.com/bigquery/v2/projects/citi-bike-for-jupyter/jobs?prettyPrint=false: ProjectId and DatasetId must be non-empty\n\nLocation: None\nJob ID: ef4ef71d-5b30-4702-9eb4-cbe1948c15db\n",
     "output_type": "error",
     "traceback": [
      "\u001b[1;31m---------------------------------------------------------------------------\u001b[0m",
      "\u001b[1;31mBadRequest\u001b[0m                                Traceback (most recent call last)",
      "Cell \u001b[1;32mIn[21], line 22\u001b[0m\n\u001b[0;32m     18\u001b[0m citi_bike_initial_query \u001b[38;5;241m=\u001b[39m \u001b[38;5;124m\"\"\"\u001b[39m\u001b[38;5;124mSELECT * FROM `bigquery-public-data.new_york_citibike.citibike_trips`\u001b[39m\n\u001b[0;32m     19\u001b[0m \u001b[38;5;124mLIMIT 15\u001b[39m\u001b[38;5;124m\"\"\"\u001b[39m\n\u001b[0;32m     21\u001b[0m \u001b[38;5;66;03m# Run the query and write the result to a pandas data frame\u001b[39;00m\n\u001b[1;32m---> 22\u001b[0m query_results \u001b[38;5;241m=\u001b[39m \u001b[43mbigquery_client\u001b[49m\u001b[38;5;241;43m.\u001b[39;49m\u001b[43mquery\u001b[49m\u001b[43m(\u001b[49m\u001b[43mciti_bike_initial_query\u001b[49m\u001b[43m)\u001b[49m\n\u001b[0;32m     23\u001b[0m df \u001b[38;5;241m=\u001b[39m query_results\u001b[38;5;241m.\u001b[39mto_dataframe()\n\u001b[0;32m     25\u001b[0m \u001b[38;5;66;03m# View top few rows of the result\u001b[39;00m\n",
      "File \u001b[1;32m~\\AppData\\Local\\Programs\\Python\\Python312\\Lib\\site-packages\\google\\cloud\\bigquery\\client.py:3387\u001b[0m, in \u001b[0;36mClient.query\u001b[1;34m(self, query, job_config, job_id, job_id_prefix, location, project, retry, timeout, job_retry, api_method)\u001b[0m\n\u001b[0;32m   3376\u001b[0m     \u001b[38;5;28;01mreturn\u001b[39;00m _job_helpers\u001b[38;5;241m.\u001b[39mquery_jobs_query(\n\u001b[0;32m   3377\u001b[0m         \u001b[38;5;28mself\u001b[39m,\n\u001b[0;32m   3378\u001b[0m         query,\n\u001b[1;32m   (...)\u001b[0m\n\u001b[0;32m   3384\u001b[0m         job_retry,\n\u001b[0;32m   3385\u001b[0m     )\n\u001b[0;32m   3386\u001b[0m \u001b[38;5;28;01melif\u001b[39;00m api_method \u001b[38;5;241m==\u001b[39m enums\u001b[38;5;241m.\u001b[39mQueryApiMethod\u001b[38;5;241m.\u001b[39mINSERT:\n\u001b[1;32m-> 3387\u001b[0m     \u001b[38;5;28;01mreturn\u001b[39;00m \u001b[43m_job_helpers\u001b[49m\u001b[38;5;241;43m.\u001b[39;49m\u001b[43mquery_jobs_insert\u001b[49m\u001b[43m(\u001b[49m\n\u001b[0;32m   3388\u001b[0m \u001b[43m        \u001b[49m\u001b[38;5;28;43mself\u001b[39;49m\u001b[43m,\u001b[49m\n\u001b[0;32m   3389\u001b[0m \u001b[43m        \u001b[49m\u001b[43mquery\u001b[49m\u001b[43m,\u001b[49m\n\u001b[0;32m   3390\u001b[0m \u001b[43m        \u001b[49m\u001b[43mjob_config\u001b[49m\u001b[43m,\u001b[49m\n\u001b[0;32m   3391\u001b[0m \u001b[43m        \u001b[49m\u001b[43mjob_id\u001b[49m\u001b[43m,\u001b[49m\n\u001b[0;32m   3392\u001b[0m \u001b[43m        \u001b[49m\u001b[43mjob_id_prefix\u001b[49m\u001b[43m,\u001b[49m\n\u001b[0;32m   3393\u001b[0m \u001b[43m        \u001b[49m\u001b[43mlocation\u001b[49m\u001b[43m,\u001b[49m\n\u001b[0;32m   3394\u001b[0m \u001b[43m        \u001b[49m\u001b[43mproject\u001b[49m\u001b[43m,\u001b[49m\n\u001b[0;32m   3395\u001b[0m \u001b[43m        \u001b[49m\u001b[43mretry\u001b[49m\u001b[43m,\u001b[49m\n\u001b[0;32m   3396\u001b[0m \u001b[43m        \u001b[49m\u001b[43mtimeout\u001b[49m\u001b[43m,\u001b[49m\n\u001b[0;32m   3397\u001b[0m \u001b[43m        \u001b[49m\u001b[43mjob_retry\u001b[49m\u001b[43m,\u001b[49m\n\u001b[0;32m   3398\u001b[0m \u001b[43m    \u001b[49m\u001b[43m)\u001b[49m\n\u001b[0;32m   3399\u001b[0m \u001b[38;5;28;01melse\u001b[39;00m:\n\u001b[0;32m   3400\u001b[0m     \u001b[38;5;28;01mraise\u001b[39;00m \u001b[38;5;167;01mValueError\u001b[39;00m(\u001b[38;5;124mf\u001b[39m\u001b[38;5;124m\"\u001b[39m\u001b[38;5;124mGot unexpected value for api_method: \u001b[39m\u001b[38;5;132;01m{\u001b[39;00m\u001b[38;5;28mrepr\u001b[39m(api_method)\u001b[38;5;132;01m}\u001b[39;00m\u001b[38;5;124m\"\u001b[39m)\n",
      "File \u001b[1;32m~\\AppData\\Local\\Programs\\Python\\Python312\\Lib\\site-packages\\google\\cloud\\bigquery\\_job_helpers.py:158\u001b[0m, in \u001b[0;36mquery_jobs_insert\u001b[1;34m(client, query, job_config, job_id, job_id_prefix, location, project, retry, timeout, job_retry)\u001b[0m\n\u001b[0;32m    155\u001b[0m     \u001b[38;5;28;01melse\u001b[39;00m:\n\u001b[0;32m    156\u001b[0m         \u001b[38;5;28;01mreturn\u001b[39;00m query_job\n\u001b[1;32m--> 158\u001b[0m future \u001b[38;5;241m=\u001b[39m \u001b[43mdo_query\u001b[49m\u001b[43m(\u001b[49m\u001b[43m)\u001b[49m\n\u001b[0;32m    159\u001b[0m \u001b[38;5;66;03m# The future might be in a failed state now, but if it's\u001b[39;00m\n\u001b[0;32m    160\u001b[0m \u001b[38;5;66;03m# unrecoverable, we'll find out when we ask for it's result, at which\u001b[39;00m\n\u001b[0;32m    161\u001b[0m \u001b[38;5;66;03m# point, we may retry.\u001b[39;00m\n\u001b[0;32m    162\u001b[0m \u001b[38;5;28;01mif\u001b[39;00m \u001b[38;5;129;01mnot\u001b[39;00m job_id_given:\n",
      "File \u001b[1;32m~\\AppData\\Local\\Programs\\Python\\Python312\\Lib\\site-packages\\google\\cloud\\bigquery\\_job_helpers.py:135\u001b[0m, in \u001b[0;36mquery_jobs_insert.<locals>.do_query\u001b[1;34m()\u001b[0m\n\u001b[0;32m    132\u001b[0m query_job \u001b[38;5;241m=\u001b[39m job\u001b[38;5;241m.\u001b[39mQueryJob(job_ref, query, client\u001b[38;5;241m=\u001b[39mclient, job_config\u001b[38;5;241m=\u001b[39mjob_config)\n\u001b[0;32m    134\u001b[0m \u001b[38;5;28;01mtry\u001b[39;00m:\n\u001b[1;32m--> 135\u001b[0m     \u001b[43mquery_job\u001b[49m\u001b[38;5;241;43m.\u001b[39;49m\u001b[43m_begin\u001b[49m\u001b[43m(\u001b[49m\u001b[43mretry\u001b[49m\u001b[38;5;241;43m=\u001b[39;49m\u001b[43mretry\u001b[49m\u001b[43m,\u001b[49m\u001b[43m \u001b[49m\u001b[43mtimeout\u001b[49m\u001b[38;5;241;43m=\u001b[39;49m\u001b[43mtimeout\u001b[49m\u001b[43m)\u001b[49m\n\u001b[0;32m    136\u001b[0m \u001b[38;5;28;01mexcept\u001b[39;00m core_exceptions\u001b[38;5;241m.\u001b[39mConflict \u001b[38;5;28;01mas\u001b[39;00m create_exc:\n\u001b[0;32m    137\u001b[0m     \u001b[38;5;66;03m# The thought is if someone is providing their own job IDs and they get\u001b[39;00m\n\u001b[0;32m    138\u001b[0m     \u001b[38;5;66;03m# their job ID generation wrong, this could end up returning results for\u001b[39;00m\n\u001b[0;32m    139\u001b[0m     \u001b[38;5;66;03m# the wrong query. We thus only try to recover if job ID was not given.\u001b[39;00m\n\u001b[0;32m    140\u001b[0m     \u001b[38;5;28;01mif\u001b[39;00m job_id_given:\n",
      "File \u001b[1;32m~\\AppData\\Local\\Programs\\Python\\Python312\\Lib\\site-packages\\google\\cloud\\bigquery\\job\\query.py:1379\u001b[0m, in \u001b[0;36mQueryJob._begin\u001b[1;34m(self, client, retry, timeout)\u001b[0m\n\u001b[0;32m   1359\u001b[0m \u001b[38;5;250m\u001b[39m\u001b[38;5;124;03m\"\"\"API call:  begin the job via a POST request\u001b[39;00m\n\u001b[0;32m   1360\u001b[0m \n\u001b[0;32m   1361\u001b[0m \u001b[38;5;124;03mSee\u001b[39;00m\n\u001b[1;32m   (...)\u001b[0m\n\u001b[0;32m   1375\u001b[0m \u001b[38;5;124;03m    ValueError: If the job has already begun.\u001b[39;00m\n\u001b[0;32m   1376\u001b[0m \u001b[38;5;124;03m\"\"\"\u001b[39;00m\n\u001b[0;32m   1378\u001b[0m \u001b[38;5;28;01mtry\u001b[39;00m:\n\u001b[1;32m-> 1379\u001b[0m     \u001b[38;5;28;43msuper\u001b[39;49m\u001b[43m(\u001b[49m\u001b[43mQueryJob\u001b[49m\u001b[43m,\u001b[49m\u001b[43m \u001b[49m\u001b[38;5;28;43mself\u001b[39;49m\u001b[43m)\u001b[49m\u001b[38;5;241;43m.\u001b[39;49m\u001b[43m_begin\u001b[49m\u001b[43m(\u001b[49m\u001b[43mclient\u001b[49m\u001b[38;5;241;43m=\u001b[39;49m\u001b[43mclient\u001b[49m\u001b[43m,\u001b[49m\u001b[43m \u001b[49m\u001b[43mretry\u001b[49m\u001b[38;5;241;43m=\u001b[39;49m\u001b[43mretry\u001b[49m\u001b[43m,\u001b[49m\u001b[43m \u001b[49m\u001b[43mtimeout\u001b[49m\u001b[38;5;241;43m=\u001b[39;49m\u001b[43mtimeout\u001b[49m\u001b[43m)\u001b[49m\n\u001b[0;32m   1380\u001b[0m \u001b[38;5;28;01mexcept\u001b[39;00m exceptions\u001b[38;5;241m.\u001b[39mGoogleAPICallError \u001b[38;5;28;01mas\u001b[39;00m exc:\n\u001b[0;32m   1381\u001b[0m     exc\u001b[38;5;241m.\u001b[39mmessage \u001b[38;5;241m=\u001b[39m _EXCEPTION_FOOTER_TEMPLATE\u001b[38;5;241m.\u001b[39mformat(\n\u001b[0;32m   1382\u001b[0m         message\u001b[38;5;241m=\u001b[39mexc\u001b[38;5;241m.\u001b[39mmessage, location\u001b[38;5;241m=\u001b[39m\u001b[38;5;28mself\u001b[39m\u001b[38;5;241m.\u001b[39mlocation, job_id\u001b[38;5;241m=\u001b[39m\u001b[38;5;28mself\u001b[39m\u001b[38;5;241m.\u001b[39mjob_id\n\u001b[0;32m   1383\u001b[0m     )\n",
      "File \u001b[1;32m~\\AppData\\Local\\Programs\\Python\\Python312\\Lib\\site-packages\\google\\cloud\\bigquery\\job\\base.py:723\u001b[0m, in \u001b[0;36m_AsyncJob._begin\u001b[1;34m(self, client, retry, timeout)\u001b[0m\n\u001b[0;32m    720\u001b[0m \u001b[38;5;66;03m# jobs.insert is idempotent because we ensure that every new\u001b[39;00m\n\u001b[0;32m    721\u001b[0m \u001b[38;5;66;03m# job has an ID.\u001b[39;00m\n\u001b[0;32m    722\u001b[0m span_attributes \u001b[38;5;241m=\u001b[39m {\u001b[38;5;124m\"\u001b[39m\u001b[38;5;124mpath\u001b[39m\u001b[38;5;124m\"\u001b[39m: path}\n\u001b[1;32m--> 723\u001b[0m api_response \u001b[38;5;241m=\u001b[39m \u001b[43mclient\u001b[49m\u001b[38;5;241;43m.\u001b[39;49m\u001b[43m_call_api\u001b[49m\u001b[43m(\u001b[49m\n\u001b[0;32m    724\u001b[0m \u001b[43m    \u001b[49m\u001b[43mretry\u001b[49m\u001b[43m,\u001b[49m\n\u001b[0;32m    725\u001b[0m \u001b[43m    \u001b[49m\u001b[43mspan_name\u001b[49m\u001b[38;5;241;43m=\u001b[39;49m\u001b[38;5;124;43m\"\u001b[39;49m\u001b[38;5;124;43mBigQuery.job.begin\u001b[39;49m\u001b[38;5;124;43m\"\u001b[39;49m\u001b[43m,\u001b[49m\n\u001b[0;32m    726\u001b[0m \u001b[43m    \u001b[49m\u001b[43mspan_attributes\u001b[49m\u001b[38;5;241;43m=\u001b[39;49m\u001b[43mspan_attributes\u001b[49m\u001b[43m,\u001b[49m\n\u001b[0;32m    727\u001b[0m \u001b[43m    \u001b[49m\u001b[43mjob_ref\u001b[49m\u001b[38;5;241;43m=\u001b[39;49m\u001b[38;5;28;43mself\u001b[39;49m\u001b[43m,\u001b[49m\n\u001b[0;32m    728\u001b[0m \u001b[43m    \u001b[49m\u001b[43mmethod\u001b[49m\u001b[38;5;241;43m=\u001b[39;49m\u001b[38;5;124;43m\"\u001b[39;49m\u001b[38;5;124;43mPOST\u001b[39;49m\u001b[38;5;124;43m\"\u001b[39;49m\u001b[43m,\u001b[49m\n\u001b[0;32m    729\u001b[0m \u001b[43m    \u001b[49m\u001b[43mpath\u001b[49m\u001b[38;5;241;43m=\u001b[39;49m\u001b[43mpath\u001b[49m\u001b[43m,\u001b[49m\n\u001b[0;32m    730\u001b[0m \u001b[43m    \u001b[49m\u001b[43mdata\u001b[49m\u001b[38;5;241;43m=\u001b[39;49m\u001b[38;5;28;43mself\u001b[39;49m\u001b[38;5;241;43m.\u001b[39;49m\u001b[43mto_api_repr\u001b[49m\u001b[43m(\u001b[49m\u001b[43m)\u001b[49m\u001b[43m,\u001b[49m\n\u001b[0;32m    731\u001b[0m \u001b[43m    \u001b[49m\u001b[43mtimeout\u001b[49m\u001b[38;5;241;43m=\u001b[39;49m\u001b[43mtimeout\u001b[49m\u001b[43m,\u001b[49m\n\u001b[0;32m    732\u001b[0m \u001b[43m\u001b[49m\u001b[43m)\u001b[49m\n\u001b[0;32m    733\u001b[0m \u001b[38;5;28mself\u001b[39m\u001b[38;5;241m.\u001b[39m_set_properties(api_response)\n",
      "File \u001b[1;32m~\\AppData\\Local\\Programs\\Python\\Python312\\Lib\\site-packages\\google\\cloud\\bigquery\\client.py:818\u001b[0m, in \u001b[0;36mClient._call_api\u001b[1;34m(self, retry, span_name, span_attributes, job_ref, headers, **kwargs)\u001b[0m\n\u001b[0;32m    814\u001b[0m \u001b[38;5;28;01mif\u001b[39;00m span_name \u001b[38;5;129;01mis\u001b[39;00m \u001b[38;5;129;01mnot\u001b[39;00m \u001b[38;5;28;01mNone\u001b[39;00m:\n\u001b[0;32m    815\u001b[0m     \u001b[38;5;28;01mwith\u001b[39;00m create_span(\n\u001b[0;32m    816\u001b[0m         name\u001b[38;5;241m=\u001b[39mspan_name, attributes\u001b[38;5;241m=\u001b[39mspan_attributes, client\u001b[38;5;241m=\u001b[39m\u001b[38;5;28mself\u001b[39m, job_ref\u001b[38;5;241m=\u001b[39mjob_ref\n\u001b[0;32m    817\u001b[0m     ):\n\u001b[1;32m--> 818\u001b[0m         \u001b[38;5;28;01mreturn\u001b[39;00m \u001b[43mcall\u001b[49m\u001b[43m(\u001b[49m\u001b[43m)\u001b[49m\n\u001b[0;32m    820\u001b[0m \u001b[38;5;28;01mreturn\u001b[39;00m call()\n",
      "File \u001b[1;32m~\\AppData\\Local\\Programs\\Python\\Python312\\Lib\\site-packages\\google\\api_core\\retry.py:372\u001b[0m, in \u001b[0;36mRetry.__call__.<locals>.retry_wrapped_func\u001b[1;34m(*args, **kwargs)\u001b[0m\n\u001b[0;32m    368\u001b[0m target \u001b[38;5;241m=\u001b[39m functools\u001b[38;5;241m.\u001b[39mpartial(func, \u001b[38;5;241m*\u001b[39margs, \u001b[38;5;241m*\u001b[39m\u001b[38;5;241m*\u001b[39mkwargs)\n\u001b[0;32m    369\u001b[0m sleep_generator \u001b[38;5;241m=\u001b[39m exponential_sleep_generator(\n\u001b[0;32m    370\u001b[0m     \u001b[38;5;28mself\u001b[39m\u001b[38;5;241m.\u001b[39m_initial, \u001b[38;5;28mself\u001b[39m\u001b[38;5;241m.\u001b[39m_maximum, multiplier\u001b[38;5;241m=\u001b[39m\u001b[38;5;28mself\u001b[39m\u001b[38;5;241m.\u001b[39m_multiplier\n\u001b[0;32m    371\u001b[0m )\n\u001b[1;32m--> 372\u001b[0m \u001b[38;5;28;01mreturn\u001b[39;00m \u001b[43mretry_target\u001b[49m\u001b[43m(\u001b[49m\n\u001b[0;32m    373\u001b[0m \u001b[43m    \u001b[49m\u001b[43mtarget\u001b[49m\u001b[43m,\u001b[49m\n\u001b[0;32m    374\u001b[0m \u001b[43m    \u001b[49m\u001b[38;5;28;43mself\u001b[39;49m\u001b[38;5;241;43m.\u001b[39;49m\u001b[43m_predicate\u001b[49m\u001b[43m,\u001b[49m\n\u001b[0;32m    375\u001b[0m \u001b[43m    \u001b[49m\u001b[43msleep_generator\u001b[49m\u001b[43m,\u001b[49m\n\u001b[0;32m    376\u001b[0m \u001b[43m    \u001b[49m\u001b[38;5;28;43mself\u001b[39;49m\u001b[38;5;241;43m.\u001b[39;49m\u001b[43m_timeout\u001b[49m\u001b[43m,\u001b[49m\n\u001b[0;32m    377\u001b[0m \u001b[43m    \u001b[49m\u001b[43mon_error\u001b[49m\u001b[38;5;241;43m=\u001b[39;49m\u001b[43mon_error\u001b[49m\u001b[43m,\u001b[49m\n\u001b[0;32m    378\u001b[0m \u001b[43m\u001b[49m\u001b[43m)\u001b[49m\n",
      "File \u001b[1;32m~\\AppData\\Local\\Programs\\Python\\Python312\\Lib\\site-packages\\google\\api_core\\retry.py:207\u001b[0m, in \u001b[0;36mretry_target\u001b[1;34m(target, predicate, sleep_generator, timeout, on_error, **kwargs)\u001b[0m\n\u001b[0;32m    205\u001b[0m \u001b[38;5;28;01mfor\u001b[39;00m sleep \u001b[38;5;129;01min\u001b[39;00m sleep_generator:\n\u001b[0;32m    206\u001b[0m     \u001b[38;5;28;01mtry\u001b[39;00m:\n\u001b[1;32m--> 207\u001b[0m         result \u001b[38;5;241m=\u001b[39m \u001b[43mtarget\u001b[49m\u001b[43m(\u001b[49m\u001b[43m)\u001b[49m\n\u001b[0;32m    208\u001b[0m         \u001b[38;5;28;01mif\u001b[39;00m inspect\u001b[38;5;241m.\u001b[39misawaitable(result):\n\u001b[0;32m    209\u001b[0m             warnings\u001b[38;5;241m.\u001b[39mwarn(_ASYNC_RETRY_WARNING)\n",
      "File \u001b[1;32m~\\AppData\\Local\\Programs\\Python\\Python312\\Lib\\site-packages\\google\\cloud\\_http\\__init__.py:494\u001b[0m, in \u001b[0;36mJSONConnection.api_request\u001b[1;34m(self, method, path, query_params, data, content_type, headers, api_base_url, api_version, expect_json, _target_object, timeout, extra_api_info)\u001b[0m\n\u001b[0;32m    482\u001b[0m response \u001b[38;5;241m=\u001b[39m \u001b[38;5;28mself\u001b[39m\u001b[38;5;241m.\u001b[39m_make_request(\n\u001b[0;32m    483\u001b[0m     method\u001b[38;5;241m=\u001b[39mmethod,\n\u001b[0;32m    484\u001b[0m     url\u001b[38;5;241m=\u001b[39murl,\n\u001b[1;32m   (...)\u001b[0m\n\u001b[0;32m    490\u001b[0m     extra_api_info\u001b[38;5;241m=\u001b[39mextra_api_info,\n\u001b[0;32m    491\u001b[0m )\n\u001b[0;32m    493\u001b[0m \u001b[38;5;28;01mif\u001b[39;00m \u001b[38;5;129;01mnot\u001b[39;00m \u001b[38;5;241m200\u001b[39m \u001b[38;5;241m<\u001b[39m\u001b[38;5;241m=\u001b[39m response\u001b[38;5;241m.\u001b[39mstatus_code \u001b[38;5;241m<\u001b[39m \u001b[38;5;241m300\u001b[39m:\n\u001b[1;32m--> 494\u001b[0m     \u001b[38;5;28;01mraise\u001b[39;00m exceptions\u001b[38;5;241m.\u001b[39mfrom_http_response(response)\n\u001b[0;32m    496\u001b[0m \u001b[38;5;28;01mif\u001b[39;00m expect_json \u001b[38;5;129;01mand\u001b[39;00m response\u001b[38;5;241m.\u001b[39mcontent:\n\u001b[0;32m    497\u001b[0m     \u001b[38;5;28;01mreturn\u001b[39;00m response\u001b[38;5;241m.\u001b[39mjson()\n",
      "\u001b[1;31mBadRequest\u001b[0m: 400 POST https://bigquery.googleapis.com/bigquery/v2/projects/citi-bike-for-jupyter/jobs?prettyPrint=false: ProjectId and DatasetId must be non-empty\n\nLocation: None\nJob ID: ef4ef71d-5b30-4702-9eb4-cbe1948c15db\n"
     ]
    }
   ],
   "source": [
    "# Imports google cloud client library and initiates BQ service\n",
    "from google.cloud import bigquery\n",
    "# !pip install pydata_google_auth\n",
    "import pydata_google_auth\n",
    "import pandas as pd\n",
    "import os\n",
    "\n",
    "# Set environment variable for notebook\n",
    "os.environ['GOOGLE_APPLICATION_CREDENTIALS'] = 'C:/Users/bashi/OneDrive/Desktop/citi-bike-409615-3593ad791f39.json'\n",
    "\n",
    "# Get user credentials\n",
    "credentials = pydata_google_auth.get_user_credentials(['https://www.googleapis.com/auth/bigquery'])\n",
    "\n",
    "# Create a BigQuery client\n",
    "bigquery_client = bigquery.Client(credentials=credentials, project='citi-bike-for-jupyter')\n",
    "\n",
    "# Set up the SQL query\n",
    "citi_bike_initial_query = \"\"\"SELECT * FROM `bigquery-public-data.new_york_citibike.citibike_trips`\n",
    "LIMIT 15\"\"\"\n",
    "\n",
    "# Run the query and write the result to a pandas data frame\n",
    "query_results = bigquery_client.query(citi_bike_initial_query)\n",
    "df = query_results.to_dataframe()\n",
    "\n",
    "# View top few rows of the result\n",
    "df.head()"
   ]
  },
  {
   "cell_type": "markdown",
   "metadata": {},
   "source": [
    "### The Citibike dataset includes 16 features across 59 million customer records from 2013 - 2018. Consequently, in order to mine meaningful data, we'll have to significantly partition and subset this dataset. "
   ]
  },
  {
   "cell_type": "code",
   "execution_count": null,
   "metadata": {},
   "outputs": [],
   "source": [
    "#Set environment variables for notebook\n",
    "import os \n",
    "os.environ['GOOGLE_APPLICATION_CREDENTIALS'] = 'C:/Users/bashi/OneDrive/Desktop/citi-bike-409615-3593ad791f39.json'\n",
    "\n",
    "#Imports google cloud client library and initiates BQ service\n",
    "from google.cloud import bigquery\n",
    "bigquery_client = bigquery.Client()\n",
    "\n",
    "citi_bike_initial_query = \"\"\"SELECT * FROM `bigquery-public-data.new_york_citibike.citibike_trips`\n",
    "LIMIT 15\"\"\" \n",
    "project_id = 'citi-bike-for-jupyter'\n",
    "#project_id = 'fast-nexus-318411'\n",
    "\n",
    "#Run the query and write result to a pandas data frame\n",
    "Query_Results = bigquery_client.query(QUERY)\n",
    "df = Query_Results.to_dataframe()\n",
    "#View top few rows of result\n",
    "df.head()"
   ]
  },
  {
   "cell_type": "code",
   "execution_count": null,
   "metadata": {},
   "outputs": [],
   "source": [
    "\n",
    "\n",
    "#client = bigquery.Client(project='citi-bike-for-jupyter', credentials=credentials)\n",
    "\n",
    "# client = bigquery.Client(project=project_id, credentials=credentials)\n",
    "#df = client.query(citi_bike_initial_query).to_dataframe()\n",
    "# df"
   ]
  },
  {
   "cell_type": "markdown",
   "metadata": {},
   "source": [
    "### This project will seek to provide insights relating to the following questions:"
   ]
  },
  {
   "cell_type": "markdown",
   "metadata": {},
   "source": [
    "#### What is the average trip length for Citibike users? \n",
    "#### What was the average number of daily trips for years 2013 - 2018?\n",
    "#### What was the cumulative trip count for 2013 to 2018?\n",
    "#### What was the average age for subscribers? Customers?\n",
    "#### Which year saw the most daily trips? Most cumulative trips?\n",
    "#### How did trip duration differ between the two user types, subscriber and customer? \n",
    "#### Did users rent from east or west side stations more often? Which were the most popular stations?"
   ]
  },
  {
   "cell_type": "code",
   "execution_count": null,
   "metadata": {},
   "outputs": [],
   "source": [
    "df['tripduration'].mean()/60"
   ]
  },
  {
   "cell_type": "markdown",
   "metadata": {},
   "source": [
    "### The average trip length was approximately 14 minutes. "
   ]
  },
  {
   "cell_type": "code",
   "execution_count": null,
   "metadata": {},
   "outputs": [],
   "source": [
    "num_trips_2013 = \"\"\" WITH trips_by_day AS\n",
    "                     (\n",
    "                     SELECT DATE(starttime) AS trip_date,\n",
    "                         COUNT(*) AS num_trips\n",
    "                     FROM `bigquery-public-data.new_york_citibike.citibike_trips`\n",
    "                     WHERE EXTRACT(YEAR FROM starttime) = 2013\n",
    "                     GROUP BY trip_date\n",
    "                     )\n",
    "                     SELECT *, \n",
    "                     SUM(num_trips)\n",
    "                     OVER\n",
    "                     ( \n",
    "                     ORDER BY trip_date\n",
    "                     ROWS BETWEEN UNBOUNDED PRECEDING AND CURRENT ROW\n",
    "                     ) AS cumulative_trips\n",
    "                     FROM trips_by_day\n",
    "\"\"\""
   ]
  },
  {
   "cell_type": "code",
   "execution_count": null,
   "metadata": {},
   "outputs": [],
   "source": [
    "client = bigquery.Client(project=project_id, credentials=credentials)\n",
    "num_trips_df = client.query(num_trips_2013).to_dataframe()\n",
    "num_trips_df"
   ]
  },
  {
   "cell_type": "code",
   "execution_count": null,
   "metadata": {},
   "outputs": [],
   "source": [
    "print('The average number of daily trips in 2013 was:', round(num_trips_df['num_trips'].mean()))\n",
    "print('The average number of daily trips in 2014 was:', round(num_trips_2014_df['num_trips'].mean()))\n",
    "print('The average number of daily trips in 2015 was:', round(num_trips_2015_df['num_trips'].mean()))\n",
    "print('The average number of daily trips in 2016 was:', round(num_trips_2016_df['num_trips'].mean()))\n",
    "print('The average number of daily trips in 2017 was:', round(num_trips_2017_df['num_trips'].mean()))\n",
    "print('The average number of daily trips in 2018 was:', round(num_trips_2018_df['num_trips'].mean()))"
   ]
  },
  {
   "cell_type": "markdown",
   "metadata": {},
   "source": [
    "### In 2013, New York Citibike users took over 5 million cumulative trips. On average, users rented over 27,000 bikes per day. In 2018 Citibike users were renting over 10,000 more bikes per day than in 2013. However, daily rentals peaked in 2017 with over 50,000 per day. "
   ]
  },
  {
   "cell_type": "code",
   "execution_count": null,
   "metadata": {},
   "outputs": [],
   "source": [
    "print('The number of cumulative trips for 2013 was:', round(num_trips_df['cumulative_trips'].max()))\n",
    "print('The number of cumulative trips for 2014 was:', round(num_trips_2014_df['cumulative_trips'].max()))\n",
    "print('The number of cumulative trips for 2015 was:', round(num_trips_2015_df['cumulative_trips'].max()))\n",
    "print('The number of cumulative trips for 2016 was:', round(num_trips_2016_df['cumulative_trips'].max()))\n",
    "print('The number of cumulative trips for 2017 was:', round(num_trips_2017_df['cumulative_trips'].max()))\n",
    "print('The number of cumulative trips for 2018 was:', round(num_trips_2018_df['cumulative_trips'].max()))"
   ]
  },
  {
   "cell_type": "markdown",
   "metadata": {},
   "source": [
    "### Users took the most trips in 2017, renting over 14 million times by the end of the year."
   ]
  },
  {
   "cell_type": "code",
   "execution_count": null,
   "metadata": {},
   "outputs": [],
   "source": [
    "import matplotlib.pyplot as plt\n",
    "import seaborn as sns"
   ]
  },
  {
   "cell_type": "code",
   "execution_count": null,
   "metadata": {},
   "outputs": [],
   "source": [
    "plt.suptitle('Daily NYC Citibike Trips (2013 - 2014)', weight = 'bold', color = 'black').set_fontsize(18)\n",
    "plt.title('Data from Google Big Query', color = 'black').set_fontsize(10)\n",
    "sns.lineplot(x = 'trip_date', y = 'num_trips', data = num_trips_df, color = 'black')\n",
    "plt.xlabel('Trip Date', weight = 'bold', color = 'black')\n",
    "plt.ylabel('Number of Trips', weight = 'bold', color = 'black')\n",
    "plt.xticks(rotation=45)"
   ]
  },
  {
   "cell_type": "code",
   "execution_count": null,
   "metadata": {},
   "outputs": [],
   "source": [
    "num_trips_2014_df = \"\"\" WITH trips_by_day AS\n",
    "                     (\n",
    "                     SELECT DATE(starttime) AS trip_date,\n",
    "                         COUNT(*) AS num_trips\n",
    "                     FROM `bigquery-public-data.new_york_citibike.citibike_trips`\n",
    "                     WHERE EXTRACT(YEAR FROM starttime) = 2014\n",
    "                     GROUP BY trip_date\n",
    "                     )\n",
    "                     SELECT *,\n",
    "                     SUM(num_trips)\n",
    "                     OVER\n",
    "                     (\n",
    "                     ORDER BY trip_date \n",
    "                     ROWS BETWEEN UNBOUNDED PRECEDING AND CURRENT ROW\n",
    "                     ) AS cumulative_trips\n",
    "                     FROM trips_by_day\n",
    "\n",
    "\"\"\""
   ]
  },
  {
   "cell_type": "code",
   "execution_count": null,
   "metadata": {},
   "outputs": [],
   "source": [
    "client = bigquery.Client(project = project_id, credentials = credentials)\n",
    "num_trips_2014_df = client.query(num_trips_2014_df).to_dataframe()\n",
    "num_trips_2014_df"
   ]
  },
  {
   "cell_type": "code",
   "execution_count": null,
   "metadata": {},
   "outputs": [],
   "source": [
    "client = bigquery.Client(project = project_id, credentials = credentials)\n",
    "cumu_trips_2014_df = client.query(cumu_trips_2014).to_dataframe()\n",
    "cumu_trips_2014_df"
   ]
  },
  {
   "cell_type": "code",
   "execution_count": null,
   "metadata": {},
   "outputs": [],
   "source": [
    "num_trips_2014_df.describe()"
   ]
  },
  {
   "cell_type": "code",
   "execution_count": null,
   "metadata": {},
   "outputs": [],
   "source": [
    "plt.suptitle('Daily NYC Citibike Trips (2013 - 2016)', weight = 'bold', color = 'black').set_fontsize(18)\n",
    "plt.title('Data from Google Big Query', color = 'black').set_fontsize(10)\n",
    "sns.lineplot(x = 'trip_date', y = 'num_trips', data = num_trips_df, color = 'blue', label = '2013')\n",
    "sns.lineplot(x = 'trip_date', y = 'num_trips', data = num_trips_2014_df, color = 'black', label = '2014')\n",
    "sns.lineplot(x = 'trip_date', y = 'num_trips', data = num_trips_2015_df, color = 'orange', label = '2015')\n",
    "plt.xlabel('Trip Date', weight = 'bold', color = 'black')\n",
    "plt.ylabel('Number of Trips', weight = 'bold', color = 'black')\n",
    "plt.xticks(rotation=45)"
   ]
  },
  {
   "cell_type": "code",
   "execution_count": null,
   "metadata": {},
   "outputs": [],
   "source": [
    "plt.suptitle('Daily NYC Citibike Trips (2016 - 2017)', weight = 'bold', color = 'black').set_fontsize(18)\n",
    "plt.title('Data from Google Big Query', color = 'black').set_fontsize(10)\n",
    "sns.lineplot(x = 'trip_date', y = 'num_trips', data = num_trips_2016_df, color = 'black')\n",
    "plt.xlabel('Trip Date', weight = 'bold', color = 'black')\n",
    "plt.ylabel('Number of Trips', weight = 'bold', color = 'black')\n",
    "plt.xticks(rotation=45)"
   ]
  },
  {
   "cell_type": "code",
   "execution_count": null,
   "metadata": {},
   "outputs": [],
   "source": [
    "num_trips_2015_df = \"\"\" WITH trips_by_day AS\n",
    "                        (\n",
    "                        SELECT DATE(starttime) AS trip_date,\n",
    "                            COUNT(*) AS num_trips,\n",
    "                        FROM `bigquery-public-data.new_york_citibike.citibike_trips`\n",
    "                        WHERE EXTRACT(YEAR FROM starttime) = 2015\n",
    "                        GROUP BY trip_date\n",
    "                        )\n",
    "                        SELECT *,\n",
    "                        SUM(num_trips) \n",
    "                        OVER\n",
    "                        (\n",
    "                        ORDER BY trip_date\n",
    "                        ROWS BETWEEN UNBOUNDED PRECEDING AND CURRENT ROW\n",
    "                        ) AS cumulative_trips\n",
    "                        FROM trips_by_day\n",
    "\"\"\""
   ]
  },
  {
   "cell_type": "code",
   "execution_count": null,
   "metadata": {},
   "outputs": [],
   "source": [
    "client = bigquery.Client(project=project_id, credentials=credentials)\n",
    "num_trips_2015_df = client.query(num_trips_2015_df).to_dataframe()\n",
    "num_trips_2015_df"
   ]
  },
  {
   "cell_type": "code",
   "execution_count": null,
   "metadata": {},
   "outputs": [],
   "source": [
    "num_trips_2016_df = \"\"\" WITH trips_by_day AS\n",
    "                     (\n",
    "                     SELECT DATE(starttime) AS trip_date,\n",
    "                         COUNT(*) AS num_trips\n",
    "                     FROM `bigquery-public-data.new_york_citibike.citibike_trips`\n",
    "                     WHERE EXTRACT(YEAR FROM starttime) = 2016\n",
    "                     GROUP BY trip_date\n",
    "                     )\n",
    "                     SELECT *,\n",
    "                     SUM(num_trips) \n",
    "                     OVER\n",
    "                     (\n",
    "                     ORDER BY trip_date\n",
    "                     ROWS BETWEEN UNBOUNDED PRECEDING AND CURRENT ROW\n",
    "                     ) AS cumulative_trips\n",
    "                     FROM trips_by_day\n",
    "\"\"\""
   ]
  },
  {
   "cell_type": "code",
   "execution_count": null,
   "metadata": {},
   "outputs": [],
   "source": [
    "client = bigquery.Client(project=project_id, credentials=credentials)\n",
    "num_trips_2016_df = client.query(num_trips_2016_df).to_dataframe()\n",
    "num_trips_2016_df"
   ]
  },
  {
   "cell_type": "code",
   "execution_count": null,
   "metadata": {},
   "outputs": [],
   "source": [
    "num_trips_2017_df = \"\"\" WITH trips_by_day AS\n",
    "                        (\n",
    "                        SELECT DATE(starttime) AS trip_date,\n",
    "                            COUNT(*) AS num_trips\n",
    "                        FROM `bigquery-public-data.new_york_citibike.citibike_trips`\n",
    "                        WHERE EXTRACT(YEAR FROM starttime) = 2017\n",
    "                        GROUP BY trip_date\n",
    "                        )\n",
    "                        SELECT *, \n",
    "                        SUM(num_trips)\n",
    "                        OVER\n",
    "                        (\n",
    "                        ORDER BY trip_date\n",
    "                        ROWS BETWEEN UNBOUNDED PRECEDING AND CURRENT ROW\n",
    "                        ) AS cumulative_trips\n",
    "                        FROM trips_by_day\n",
    "\"\"\""
   ]
  },
  {
   "cell_type": "code",
   "execution_count": null,
   "metadata": {},
   "outputs": [],
   "source": [
    "client = bigquery.Client(project=project_id, credentials=credentials)\n",
    "num_trips_2017_df = client.query(num_trips_2017_df).to_dataframe()\n",
    "num_trips_2017_df"
   ]
  },
  {
   "cell_type": "code",
   "execution_count": null,
   "metadata": {},
   "outputs": [],
   "source": [
    "plt.suptitle('Daily NYC Citibike Trips (2015 - 2016)', weight = 'bold', color = 'black').set_fontsize(18)\n",
    "plt.title('Data from Google Big Query', color = 'black').set_fontsize(10)\n",
    "sns.lineplot(x = 'trip_date', y = 'num_trips', data = num_trips_2015_df, color = 'black')\n",
    "plt.xlabel('Trip Date', weight = 'bold', color = 'black')\n",
    "plt.ylabel('Number of Trips', weight = 'bold', color = 'black')\n",
    "plt.xticks(rotation=45)"
   ]
  },
  {
   "cell_type": "code",
   "execution_count": null,
   "metadata": {},
   "outputs": [],
   "source": [
    "plt.suptitle('Daily NYC Citibike Trips (2017 - 2018)', weight = 'bold', color = 'black').set_fontsize(18)\n",
    "plt.title('Data from Google Big Query', color = 'black').set_fontsize(10)\n",
    "sns.lineplot(x = 'trip_date', y = 'num_trips', data = num_trips_2017_df, color = 'black')\n",
    "plt.xlabel('Trip Date', weight = 'bold', color = 'black')\n",
    "plt.ylabel('Number of Trips', weight = 'bold', color = 'black')\n",
    "plt.xticks(rotation=45)"
   ]
  },
  {
   "cell_type": "code",
   "execution_count": null,
   "metadata": {},
   "outputs": [],
   "source": [
    "plt.suptitle('Daily NYC Citibike Trips (2017 - 2018)', weight = 'bold', color = 'black').set_fontsize(18)\n",
    "plt.title('Data from Google Big Query', color = 'black').set_fontsize(10)\n",
    "sns.lineplot(x = 'trip_date', y = 'num_trips', data = num_trips_2017_df, color = 'black', label = '2017')\n",
    "sns.lineplot(x = 'trip_date', y = 'num_trips', data = num_trips_2018_df, color = 'orange', label = '2018')\n",
    "plt.xlabel('Trip Date', weight = 'bold', color = 'black')\n",
    "plt.ylabel('Number of Trips', weight = 'bold', color = 'black')\n",
    "plt.xticks(rotation=45)"
   ]
  },
  {
   "cell_type": "code",
   "execution_count": null,
   "metadata": {},
   "outputs": [],
   "source": [
    "num_trips_2018_query = \"\"\" WITH trips_by_day AS\n",
    "                        (\n",
    "                        SELECT DATE(starttime) AS trip_date,\n",
    "                        COUNT(*) AS num_trips\n",
    "                        FROM `bigquery-public-data.new_york_citibike.citibike_trips`\n",
    "                        WHERE EXTRACT(YEAR FROM starttime) = 2018\n",
    "                        GROUP BY trip_date\n",
    "                        )\n",
    "                        SELECT *, \n",
    "                        SUM(num_trips) \n",
    "                        OVER\n",
    "                        (\n",
    "                        ORDER BY trip_date\n",
    "                        ROWS BETWEEN UNBOUNDED PRECEDING AND CURRENT ROW\n",
    "                        ) AS cumulative_trips\n",
    "                        FROM trips_by_day\n",
    "\"\"\""
   ]
  },
  {
   "cell_type": "code",
   "execution_count": null,
   "metadata": {},
   "outputs": [],
   "source": [
    "client = bigquery.Client(project = project_id, credentials=credentials)\n",
    "num_trips_2018_df = client.query(num_trips_2018_query).to_dataframe()\n",
    "num_trips_2018_df"
   ]
  },
  {
   "cell_type": "code",
   "execution_count": null,
   "metadata": {},
   "outputs": [],
   "source": [
    "plt.suptitle('Daily NYC Citibike Trips (2018 - 2019)', weight = 'bold', color = 'black').set_fontsize(18)\n",
    "plt.title('Data from Google Big Query', color = 'black').set_fontsize(10)\n",
    "sns.lineplot(x = 'trip_date', y = 'num_trips', data = num_trips_2018_df, color = 'black')\n",
    "plt.xlabel('Trip Date', weight = 'bold', color = 'black')\n",
    "plt.ylabel('Number of Trips', weight = 'bold', color = 'black')\n",
    "plt.xticks(rotation=45)"
   ]
  },
  {
   "cell_type": "code",
   "execution_count": null,
   "metadata": {},
   "outputs": [],
   "source": [
    "sub_trips =    \"\"\" SELECT COUNT(usertype) AS count_subscribers, AVG(tripduration) / 60 AS avg_trip\n",
    "                   FROM `bigquery-public-data.new_york_citibike.citibike_trips`\n",
    "                   WHERE usertype = 'Subscriber'\n",
    "                   ORDER BY count_subscribers DESC \n",
    "                     \"\"\" "
   ]
  },
  {
   "cell_type": "code",
   "execution_count": null,
   "metadata": {},
   "outputs": [],
   "source": [
    "client = bigquery.Client(project=project_id, credentials=credentials)\n",
    "sub_trips_df = client.query(sub_trips).to_dataframe()\n",
    "sub_trips_df"
   ]
  },
  {
   "cell_type": "markdown",
   "metadata": {},
   "source": [
    "### Of the clients included in the database for 2013 - 2018, over 46 million users are Citibike subscribers, meaning that nearly 80 percent of users are Citibike subscribers. "
   ]
  },
  {
   "cell_type": "code",
   "execution_count": null,
   "metadata": {},
   "outputs": [],
   "source": [
    "cust_trips =    \"\"\" SELECT COUNT(usertype) AS count_customers, AVG(tripduration) / 60 AS avg_trip\n",
    "                   FROM `bigquery-public-data.new_york_citibike.citibike_trips`\n",
    "                   WHERE usertype = 'Customer'\n",
    "                   ORDER BY count_customers DESC \n",
    "                     \"\"\" "
   ]
  },
  {
   "cell_type": "code",
   "execution_count": null,
   "metadata": {},
   "outputs": [],
   "source": [
    "client = bigquery.Client(project=project_id, credentials=credentials)\n",
    "cust_trips_df = client.query(cust_trips).to_dataframe()\n",
    "cust_trips_df"
   ]
  },
  {
   "cell_type": "markdown",
   "metadata": {},
   "source": [
    "### Conversely, 6 million users are simply customers, paying per trip. However, notably, the customers' average trip was double that of the subscribers' trips at 36 minutes to 13 minutes, respectively. "
   ]
  },
  {
   "cell_type": "code",
   "execution_count": null,
   "metadata": {},
   "outputs": [],
   "source": [
    "cust_trip_2014 = \"\"\" WITH trips_by_day AS\n",
    "                     (\n",
    "                     SELECT DATE(starttime) AS trip_date,\n",
    "                         COUNT(*) AS num_trips\n",
    "                     FROM `bigquery-public-data.new_york_citibike.citibike_trips`\n",
    "                     WHERE EXTRACT(YEAR FROM starttime) = 2014 AND usertype = 'Customer'\n",
    "                     GROUP BY trip_date\n",
    "                     )\n",
    "                     SELECT *,\n",
    "                     SUM(num_trips)\n",
    "                     OVER\n",
    "                     (\n",
    "                     ORDER BY trip_date \n",
    "                     ROWS BETWEEN UNBOUNDED PRECEDING AND CURRENT ROW\n",
    "                     ) AS cumulative_trips\n",
    "                     FROM trips_by_day \"\"\""
   ]
  },
  {
   "cell_type": "code",
   "execution_count": null,
   "metadata": {},
   "outputs": [],
   "source": [
    "client = bigquery.Client(project=project_id, credentials=credentials)\n",
    "cust_trips_2014_df = client.query(cust_trip_2014).to_dataframe()\n",
    "cust_trips_2014_df"
   ]
  },
  {
   "cell_type": "code",
   "execution_count": null,
   "metadata": {},
   "outputs": [],
   "source": [
    "sub_trip_2014 = \"\"\" WITH trips_by_day AS\n",
    "                    (\n",
    "                    SELECT DATE(starttime) AS trip_date, \n",
    "                        COUNT(*) AS num_trips\n",
    "                    FROM `bigquery-public-data.new_york_citibike.citibike_trips`\n",
    "                    WHERE EXTRACT(YEAR FROM starttime) = 2014 AND usertype = 'Subscriber'\n",
    "                    GROUP BY trip_date\n",
    "                    )\n",
    "                    SELECT *, SUM(num_trips)\n",
    "                    OVER\n",
    "                    (\n",
    "                    ORDER BY num_trips DESC\n",
    "                    ROWS BETWEEN UNBOUNDED PRECEDING AND CURRENT ROW \n",
    "                    ) AS cumulative_trips\n",
    "                    FROM trips_by_day\n",
    "\"\"\""
   ]
  },
  {
   "cell_type": "code",
   "execution_count": null,
   "metadata": {},
   "outputs": [],
   "source": [
    "client = bigquery.Client(project=project_id, credentials=credentials)\n",
    "sub_trips_2014_df = client.query(sub_trip_2014).to_dataframe()\n",
    "sub_trips_2014_df"
   ]
  },
  {
   "cell_type": "code",
   "execution_count": null,
   "metadata": {},
   "outputs": [],
   "source": [
    "sub_trip_2014_daily_count = \"\"\"\n",
    "                    SELECT DATE(starttime) AS trip_date, \n",
    "                        COUNT(*) AS num_trips\n",
    "                    FROM `bigquery-public-data.new_york_citibike.citibike_trips`\n",
    "                    WHERE EXTRACT(YEAR FROM starttime) = 2014 AND usertype = 'Subscriber'\n",
    "                    GROUP BY trip_date\n",
    "                    \n",
    "\"\"\""
   ]
  },
  {
   "cell_type": "code",
   "execution_count": null,
   "metadata": {},
   "outputs": [],
   "source": [
    "client = bigquery.Client(project=project_id, credentials=credentials)\n",
    "sub_trips_2014_daily_count_df = client.query(sub_trip_2014_daily_count).to_dataframe()\n",
    "sub_trips_2014_daily_count_df"
   ]
  },
  {
   "cell_type": "code",
   "execution_count": null,
   "metadata": {},
   "outputs": [],
   "source": [
    "plt.suptitle('Daily NYC Citibike Subscriber Trips (2014)', weight = 'bold', color = 'black').set_fontsize(18)\n",
    "plt.title('Data from Google Big Query', color = 'black').set_fontsize(10)\n",
    "sns.lineplot(x = 'trip_date', y = 'num_trips', data = sub_trips_2014_daily_count_df, color = 'black')\n",
    "plt.xlabel('Trip Date')\n",
    "plt.ylabel('Number of Trips')\n",
    "plt.xticks(rotation=45, weight = 'bold', color = 'black')\n",
    "plt.yticks(weight = 'bold', color = 'black')"
   ]
  },
  {
   "cell_type": "code",
   "execution_count": null,
   "metadata": {},
   "outputs": [],
   "source": [
    "cust_trip_2014 = \"\"\" \n",
    "                     SELECT DATE(starttime) AS trip_date,\n",
    "                         COUNT(*) AS num_trips\n",
    "                     FROM `bigquery-public-data.new_york_citibike.citibike_trips`\n",
    "                     WHERE EXTRACT(YEAR FROM starttime) = 2014 AND usertype = 'Customer'\n",
    "                     GROUP BY trip_date\n",
    "                      \"\"\""
   ]
  },
  {
   "cell_type": "code",
   "execution_count": null,
   "metadata": {},
   "outputs": [],
   "source": [
    "client = bigquery.Client(project=project_id, credentials=credentials)\n",
    "cust_trip_2014_df = client.query(cust_trip_2014).to_dataframe()\n",
    "cust_trip_2014_df"
   ]
  },
  {
   "cell_type": "code",
   "execution_count": null,
   "metadata": {},
   "outputs": [],
   "source": [
    "plt.suptitle('Daily NYC Citibike Customer vs. Subscriber Trips (2014)', weight = 'bold', color = 'black').set_fontsize(18)\n",
    "plt.title('Data from Google Big Query', color = 'black').set_fontsize(10)\n",
    "sns.lineplot(x = 'trip_date', y = 'num_trips', data = cust_trip_2014_df, color = 'blue', label = 'Customer')\n",
    "sns.lineplot(x = 'trip_date', y = 'num_trips', data = sub_trips_2014_daily_count_df, color = 'purple', label = 'Subscriber')\n",
    "plt.xlabel('Trip Date', weight = 'bold', color = 'black')\n",
    "plt.ylabel('Number of Trips', weight = 'bold', color = 'black')\n",
    "plt.xticks(rotation=45, weight = 'bold', color = 'black')\n",
    "plt.yticks(weight = 'bold', color = 'black')"
   ]
  },
  {
   "cell_type": "code",
   "execution_count": null,
   "metadata": {},
   "outputs": [],
   "source": [
    "sub_trip_2015_daily_count = \"\"\"\n",
    "                    SELECT DATE(starttime) AS trip_date, \n",
    "                        COUNT(*) AS num_trips\n",
    "                    FROM `bigquery-public-data.new_york_citibike.citibike_trips`\n",
    "                    WHERE EXTRACT(YEAR FROM starttime) = 2015 AND usertype = 'Subscriber'\n",
    "                    GROUP BY trip_date\n",
    "                    \n",
    "\"\"\""
   ]
  },
  {
   "cell_type": "code",
   "execution_count": null,
   "metadata": {},
   "outputs": [],
   "source": [
    "client = bigquery.Client(project=project_id, credentials=credentials)\n",
    "sub_trip_2015_df = client.query(sub_trip_2015_daily_count).to_dataframe()\n",
    "sub_trip_2015_df"
   ]
  },
  {
   "cell_type": "code",
   "execution_count": null,
   "metadata": {},
   "outputs": [],
   "source": [
    "cust_trip_2015_daily_count = \"\"\"\n",
    "                    SELECT DATE(starttime) AS trip_date, \n",
    "                        COUNT(*) AS num_trips\n",
    "                    FROM `bigquery-public-data.new_york_citibike.citibike_trips`\n",
    "                    WHERE EXTRACT(YEAR FROM starttime) = 2015 AND usertype = 'Customer'\n",
    "                    GROUP BY trip_date\n",
    "                    \n",
    "\"\"\""
   ]
  },
  {
   "cell_type": "code",
   "execution_count": null,
   "metadata": {},
   "outputs": [],
   "source": [
    "client = bigquery.Client(project=project_id, credentials=credentials)\n",
    "cust_trip_2015_daily_count_df = client.query(cust_trip_2015_daily_count).to_dataframe()\n",
    "cust_trip_2015_daily_count_df"
   ]
  },
  {
   "cell_type": "code",
   "execution_count": null,
   "metadata": {},
   "outputs": [],
   "source": [
    "plt.suptitle('Daily NYC Citibike Customer vs. Subscriber Trips (2015)', weight = 'bold', color = 'black').set_fontsize(18)\n",
    "plt.title('Data from Google Big Query', color = 'black').set_fontsize(10)\n",
    "sns.lineplot(x = 'trip_date', y = 'num_trips', data = sub_trip_2015_df, color = 'purple', label = 'Subscriber')\n",
    "sns.lineplot(x = 'trip_date', y = 'num_trips', data = cust_trip_2015_daily_count_df, color = 'blue', label = 'Customer')\n",
    "plt.xlabel('Trip Date', weight = 'bold', color = 'black')\n",
    "plt.ylabel('Number of Trips', weight = 'bold', color = 'black')\n",
    "plt.xticks(rotation=45, weight = 'bold', color = 'black')\n",
    "plt.yticks(weight = 'bold', color = 'black')"
   ]
  },
  {
   "cell_type": "code",
   "execution_count": null,
   "metadata": {},
   "outputs": [],
   "source": [
    "eighteen_thirty_five = \"\"\" SELECT DATE(starttime) AS trip_date,\n",
    "                  tripduration / 60 AS trip_in_min, 2021 - birth_year AS age,\n",
    "                  FROM `bigquery-public-data.new_york_citibike.citibike_trips`\n",
    "                  WHERE birth_year BETWEEN 1985 AND 2003 AND usertype = 'Subscriber'\n",
    "                  ORDER BY birth_year DESC \n",
    "\"\"\""
   ]
  },
  {
   "cell_type": "code",
   "execution_count": null,
   "metadata": {},
   "outputs": [],
   "source": [
    "client = bigquery.Client(project=project_id, credentials=credentials)\n",
    "eighteen_thirty_five_df = client.query(eighteen_thirty_five).to_dataframe()\n",
    "eighteen_thirty_five_df"
   ]
  },
  {
   "cell_type": "markdown",
   "metadata": {},
   "source": [
    "### One of the most significant KPIs for any business is how sales perform among the 18 - 35 year-old demographic. Consequently, this project examined the age distribution for both subscribers and customers and found that the majority of customers in the coveted demographic are between the ages of 30 and 35. "
   ]
  },
  {
   "cell_type": "code",
   "execution_count": null,
   "metadata": {},
   "outputs": [],
   "source": [
    "plt.suptitle('Age Distribution for 18 - 35 year-old Citibike Subscribers', weight = 'bold', color = 'black').set_fontsize(18)\n",
    "plt.title('Data from Google BigQuery', color = 'black').set_fontsize(10)\n",
    "sns.distplot(eighteen_thirty_five_df['age'], kde=False, bins = 25, color = 'purple', hist_kws=dict(edgecolor='black'))\n",
    "plt.xlabel('Age', weight = 'bold', color = 'black')\n",
    "plt.ylabel('Frequency', weight = 'bold', color = 'black')\n",
    "plt.xticks(rotation=45, weight = 'bold', color = 'black')"
   ]
  },
  {
   "cell_type": "code",
   "execution_count": null,
   "metadata": {},
   "outputs": [],
   "source": [
    "all_age = \"\"\" SELECT DATE(starttime) AS trip_date,\n",
    "                  tripduration / 60 AS trip_in_min, 2021 - birth_year AS age,\n",
    "                  FROM `bigquery-public-data.new_york_citibike.citibike_trips`\n",
    "                  WHERE usertype = 'Subscriber'\n",
    "                  ORDER BY birth_year DESC \n",
    "\"\"\""
   ]
  },
  {
   "cell_type": "code",
   "execution_count": null,
   "metadata": {},
   "outputs": [],
   "source": [
    "client = bigquery.Client(project=project_id, credentials=credentials)\n",
    "all_age_df = client.query(all_age).to_dataframe()\n",
    "all_age_df"
   ]
  },
  {
   "cell_type": "code",
   "execution_count": null,
   "metadata": {},
   "outputs": [],
   "source": [
    "plt.suptitle('Age Distribution for Citibike Subscribers', weight = 'bold', color = 'black').set_fontsize(18)\n",
    "plt.title('Data from Google BigQuery', color = 'black').set_fontsize(10)\n",
    "sns.distplot(all_age_df['age'], kde=False, bins = 50, color = 'purple', hist_kws=dict(edgecolor='black'))\n",
    "plt.xlabel('Age', weight = 'bold', color = 'black')\n",
    "plt.ylabel('Frequency', weight = 'bold', color = 'black')\n",
    "plt.xticks(rotation=45, weight = 'bold', color = 'black')"
   ]
  },
  {
   "cell_type": "code",
   "execution_count": null,
   "metadata": {},
   "outputs": [],
   "source": [
    "print('The average age for Citibike subscribers is:', round(all_age_df['age'].mean()))"
   ]
  },
  {
   "cell_type": "markdown",
   "metadata": {},
   "source": [
    "### However, when the sample size encompasses subscribers of all ages, the most frequent customers are in their early 40s to early 50s, with a mean age of 44. "
   ]
  },
  {
   "cell_type": "code",
   "execution_count": null,
   "metadata": {},
   "outputs": [],
   "source": [
    "all_age_m = \"\"\" SELECT DATE(starttime) AS trip_date,\n",
    "                  tripduration / 60 AS trip_in_min, 2021 - birth_year AS age,\n",
    "                  FROM `bigquery-public-data.new_york_citibike.citibike_trips`\n",
    "                  WHERE usertype = 'Subscriber' AND gender = 'male'\n",
    "                  ORDER BY birth_year DESC \n",
    "\"\"\""
   ]
  },
  {
   "cell_type": "code",
   "execution_count": null,
   "metadata": {},
   "outputs": [],
   "source": [
    "client = bigquery.Client(project=project_id, credentials=credentials)\n",
    "all_age_m_df = client.query(all_age_m).to_dataframe()\n",
    "all_age_m_df"
   ]
  },
  {
   "cell_type": "code",
   "execution_count": null,
   "metadata": {},
   "outputs": [],
   "source": [
    "plt.suptitle('Age Distribution for Male Citibike Subscribers', weight = 'bold', color = 'black').set_fontsize(18)\n",
    "plt.title('Data from Google BigQuery', color = 'black').set_fontsize(10)\n",
    "sns.distplot(all_age_m_df['age'], kde=False, bins = 50, color = 'purple', hist_kws=dict(edgecolor='black'))\n",
    "plt.xlabel('Age', weight = 'bold', color = 'black')\n",
    "plt.ylabel('Frequency', weight = 'bold', color = 'black')\n",
    "plt.xticks(rotation=45, weight = 'bold', color = 'black')"
   ]
  },
  {
   "cell_type": "code",
   "execution_count": null,
   "metadata": {},
   "outputs": [],
   "source": [
    "print('The average age for male Citibike subscribers is:', round(all_age_m_df['age'].mean()))\n",
    "print('The median age for male Citibike subscribers is:', round(all_age_m_df['age'].median()))"
   ]
  },
  {
   "cell_type": "markdown",
   "metadata": {},
   "source": [
    "### For male subscribers, the average and median ages are 44 and 42, respectively. "
   ]
  },
  {
   "cell_type": "code",
   "execution_count": null,
   "metadata": {},
   "outputs": [],
   "source": [
    "all_age_f = \"\"\" SELECT DATE(starttime) AS trip_date,\n",
    "                  tripduration / 60 AS trip_in_min, 2021 - birth_year AS age,\n",
    "                  FROM `bigquery-public-data.new_york_citibike.citibike_trips`\n",
    "                  WHERE usertype = 'Subscriber' AND gender = 'female'\n",
    "                  ORDER BY birth_year DESC \n",
    "\"\"\""
   ]
  },
  {
   "cell_type": "code",
   "execution_count": null,
   "metadata": {},
   "outputs": [],
   "source": [
    "client = bigquery.Client(project=project_id, credentials=credentials)\n",
    "all_age_f_df = client.query(all_age_f).to_dataframe()\n",
    "all_age_f_df"
   ]
  },
  {
   "cell_type": "code",
   "execution_count": null,
   "metadata": {},
   "outputs": [],
   "source": [
    "print('The average age for female Citibike subscribers is:', round(all_age_f_df['age'].mean()))\n",
    "print('The median age for female Citibike subscribers is:', round(all_age_f_df['age'].median()))"
   ]
  },
  {
   "cell_type": "markdown",
   "metadata": {},
   "source": [
    "### For female subscribers, the ages are slightly lower, but still tend to edge toward middle age. The mean age for a female subscriber is 42 while the median age is 39. "
   ]
  },
  {
   "cell_type": "code",
   "execution_count": null,
   "metadata": {},
   "outputs": [],
   "source": [
    "plt.suptitle('Age Distribution for Female Citibike Subscribers', weight = 'bold', color = 'black').set_fontsize(18)\n",
    "plt.title('Data from Google BigQuery', color = 'black').set_fontsize(10)\n",
    "sns.distplot(all_age_f_df['age'], kde=False, bins = 50, color = 'purple', hist_kws=dict(edgecolor='black'))\n",
    "plt.xlabel('Age', weight = 'bold', color = 'black')\n",
    "plt.ylabel('Frequency', weight = 'bold', color = 'black')\n",
    "plt.xticks(rotation=45, weight = 'bold', color = 'black')"
   ]
  },
  {
   "cell_type": "code",
   "execution_count": null,
   "metadata": {},
   "outputs": [],
   "source": [
    "all_age_customer = \"\"\" SELECT DATE(starttime) AS trip_date, \n",
    "                       tripduration / 60 AS trip_in_min,\n",
    "                       2021 - birth_year AS age\n",
    "                       FROM `bigquery-public-data.new_york_citibike.citibike_trips`\n",
    "                       WHERE usertype = 'Customer'\n",
    "                       ORDER BY birth_year DESC \n",
    "                       \"\"\""
   ]
  },
  {
   "cell_type": "code",
   "execution_count": null,
   "metadata": {},
   "outputs": [],
   "source": [
    "client = bigquery.Client(project=project_id, credentials=credentials)\n",
    "all_age_customer_df = client.query(all_age_customer).to_dataframe()\n",
    "all_age_customer_df"
   ]
  },
  {
   "cell_type": "code",
   "execution_count": null,
   "metadata": {},
   "outputs": [],
   "source": [
    "plt.suptitle('Age Distribution for Citibike Customers', weight = 'bold', color = 'black').set_fontsize(18)\n",
    "plt.title('Data from Google BigQuery', color = 'black').set_fontsize(10)\n",
    "sns.distplot(all_age_customer_df['age'], kde=False, bins = 50, color = 'purple', hist_kws=dict(edgecolor='black'))\n",
    "plt.xlabel('Age', weight = 'bold', color = 'black')\n",
    "plt.ylabel('Frequency', weight = 'bold', color = 'black')\n",
    "plt.xticks(rotation=45, weight = 'bold', color = 'black')"
   ]
  },
  {
   "cell_type": "code",
   "execution_count": null,
   "metadata": {},
   "outputs": [],
   "source": [
    "print('The average age for Citibike customers is:', round(all_age_customer_df['age'].mean()))\n",
    "print('The median age for Citibike customers is:', round(all_age_customer_df['age'].median()))"
   ]
  },
  {
   "cell_type": "markdown",
   "metadata": {},
   "source": [
    "### The average age for Citibike customers, 43, is similar to the Citibike subscriber average age. However, the median age increases by nearly a decade from 42 to 50. "
   ]
  },
  {
   "cell_type": "code",
   "execution_count": null,
   "metadata": {},
   "outputs": [],
   "source": [
    "m_cust_age = \"\"\" SELECT DATE(starttime) AS trip_date,\n",
    "                  tripduration / 60 AS trip_in_min, 2021 - birth_year AS age,\n",
    "                  FROM `bigquery-public-data.new_york_citibike.citibike_trips`\n",
    "                  WHERE usertype = 'Customer' AND gender = 'male'\n",
    "                  ORDER BY birth_year DESC \n",
    "\"\"\""
   ]
  },
  {
   "cell_type": "code",
   "execution_count": null,
   "metadata": {},
   "outputs": [],
   "source": [
    "client = bigquery.Client(project=project_id, credentials=credentials)\n",
    "m_cust_age_df = client.query(m_cust_age).to_dataframe()\n",
    "m_cust_age_df"
   ]
  },
  {
   "cell_type": "code",
   "execution_count": null,
   "metadata": {},
   "outputs": [],
   "source": [
    "plt.suptitle('Age Distribution for Male Citibike Customers', weight = 'bold', color = 'black').set_fontsize(18)\n",
    "plt.title('Data from Google BigQuery', color = 'black').set_fontsize(10)\n",
    "sns.distplot(m_cust_age_df['age'], kde=False, bins = 50, color = 'purple', hist_kws=dict(edgecolor='black'))\n",
    "plt.xlabel('Age', weight = 'bold', color = 'black')\n",
    "plt.ylabel('Frequency', weight = 'bold', color = 'black')\n",
    "plt.xticks(rotation=45, weight = 'bold', color = 'black')"
   ]
  },
  {
   "cell_type": "code",
   "execution_count": null,
   "metadata": {},
   "outputs": [],
   "source": [
    "print('The average age for male Citibike customers is:', round(m_cust_age_df['age'].mean()))\n",
    "print('The median age for male Citibike customers is:', round(m_cust_age_df['age'].median()))"
   ]
  },
  {
   "cell_type": "markdown",
   "metadata": {},
   "source": [
    "### The average and median ages for male Citibike customers are slightly younger than their subscriber counterparts, at 38 and 35, respectively.  "
   ]
  },
  {
   "cell_type": "code",
   "execution_count": null,
   "metadata": {},
   "outputs": [],
   "source": [
    "f_cust_age = \"\"\" SELECT DATE(starttime) AS trip_date,\n",
    "                  tripduration / 60 AS trip_in_min, 2021 - birth_year AS age,\n",
    "                  FROM `bigquery-public-data.new_york_citibike.citibike_trips`\n",
    "                  WHERE usertype = 'Customer' AND gender = 'female'\n",
    "                  ORDER BY birth_year DESC \n",
    "\"\"\""
   ]
  },
  {
   "cell_type": "code",
   "execution_count": null,
   "metadata": {},
   "outputs": [],
   "source": [
    "client = bigquery.Client(project=project_id, credentials=credentials)\n",
    "f_cust_age_df = client.query(f_cust_age).to_dataframe()\n",
    "f_cust_age_df"
   ]
  },
  {
   "cell_type": "code",
   "execution_count": null,
   "metadata": {},
   "outputs": [],
   "source": [
    "plt.suptitle('Age Distribution for Female Citibike Customers', weight = 'bold', color = 'black').set_fontsize(18)\n",
    "plt.title('Data from Google BigQuery', color = 'black').set_fontsize(10)\n",
    "sns.distplot(f_cust_age_df['age'], kde=False, bins = 50, color = 'purple', hist_kws=dict(edgecolor='black'))\n",
    "plt.xlabel('Age', weight = 'bold', color = 'black')\n",
    "plt.ylabel('Frequency', weight = 'bold', color = 'black')\n",
    "plt.xticks(rotation=45, weight = 'bold', color = 'black')"
   ]
  },
  {
   "cell_type": "code",
   "execution_count": null,
   "metadata": {},
   "outputs": [],
   "source": [
    "print('The average age for female Citibike customers is:', round(f_cust_age_df['age'].mean()))\n",
    "print('The median age for female Citibike customers is:', round(f_cust_age_df['age'].median()))"
   ]
  },
  {
   "cell_type": "markdown",
   "metadata": {},
   "source": [
    "### The average and median ages for female Citibike customers is the lowest out of all the queries so far, with a mean age of 36 and a median of just 34 years old. "
   ]
  },
  {
   "cell_type": "code",
   "execution_count": null,
   "metadata": {},
   "outputs": [],
   "source": [
    "eighteen_thirty_five_cust = \"\"\" SELECT DATE(starttime) AS trip_date,\n",
    "                  tripduration / 60 AS trip_in_min, 2021 - birth_year AS age, gender,\n",
    "                  FROM `bigquery-public-data.new_york_citibike.citibike_trips`\n",
    "                  WHERE birth_year BETWEEN 1985 AND 2003 AND usertype = 'Customer'\n",
    "                  ORDER BY birth_year DESC \n",
    "\"\"\""
   ]
  },
  {
   "cell_type": "code",
   "execution_count": null,
   "metadata": {},
   "outputs": [],
   "source": [
    "client = bigquery.Client(project=project_id, credentials=credentials)\n",
    "eighteen_thirty_five_cust_df = client.query(eighteen_thirty_five_cust).to_dataframe()\n",
    "eighteen_thirty_five_cust_df"
   ]
  },
  {
   "cell_type": "code",
   "execution_count": null,
   "metadata": {},
   "outputs": [],
   "source": [
    "plt.suptitle('Age Distribution for 18 - 35 year-old Citibike Customers', weight = 'bold', color = 'black').set_fontsize(18)\n",
    "plt.title('Data from Google BigQuery', color = 'black').set_fontsize(10)\n",
    "sns.distplot(eighteen_thirty_five_cust_df['age'], kde=False, bins = 25, color = 'purple', hist_kws=dict(edgecolor='black'))\n",
    "plt.xlabel('Age', weight = 'bold', color = 'black')\n",
    "plt.ylabel('Frequency', weight = 'bold', color = 'black')\n",
    "plt.xticks(rotation=45, weight = 'bold', color = 'black')"
   ]
  },
  {
   "cell_type": "markdown",
   "metadata": {},
   "source": [
    "### Even in the coveted 18 - 35 demographic, Citibike customers tend to be renting younger more frequently than Citibike subscribers. "
   ]
  },
  {
   "cell_type": "code",
   "execution_count": null,
   "metadata": {},
   "outputs": [],
   "source": [
    "east_side_sub = \"\"\" SELECT DATE(starttime) AS trip_date, tripduration / 60 AS trip_in_min,\n",
    "                2021 - birth_year AS age, end_station_name AS end_dest\n",
    "                FROM `bigquery-public-data.new_york_citibike.citibike_trips`\n",
    "                WHERE end_station_name LIKE 'E_%' AND usertype = 'Subscriber'\n",
    "                ORDER BY tripduration\n",
    "                \"\"\""
   ]
  },
  {
   "cell_type": "code",
   "execution_count": null,
   "metadata": {},
   "outputs": [],
   "source": [
    "client = bigquery.Client(project=project_id, credentials=credentials)\n",
    "east_side_sub_df = client.query(east_side_sub).to_dataframe()\n",
    "east_side_sub_df"
   ]
  },
  {
   "cell_type": "code",
   "execution_count": null,
   "metadata": {},
   "outputs": [],
   "source": [
    "east_side_sub_percent = \"\"\" SELECT end_station_name,\n",
    "                    COUNT(end_station_name) AS end_count,\n",
    "                    COUNT(end_station_name) * 100.0 / (SELECT COUNT(*) FROM `bigquery-public-data.new_york_citibike.citibike_trips`) AS end_dest_percent\n",
    "                    FROM `bigquery-public-data.new_york_citibike.citibike_trips`\n",
    "                    WHERE end_station_name LIKE 'E_%' AND usertype = 'Subscriber'\n",
    "                    GROUP BY end_station_name\n",
    "                    ORDER BY end_dest_percent DESC\n",
    "                    LIMIT 15\n",
    "                    \"\"\" "
   ]
  },
  {
   "cell_type": "code",
   "execution_count": null,
   "metadata": {},
   "outputs": [],
   "source": [
    "client = bigquery.Client(project=project_id, credentials=credentials)\n",
    "east_side_sub_percent_df = client.query(east_side_sub_percent).to_dataframe()\n",
    "east_side_sub_percent_df"
   ]
  },
  {
   "cell_type": "markdown",
   "metadata": {},
   "source": [
    "### A defining characteristic of any New York route is whether or not one's destination is on the east side or west side of New York City. Therefore, the following graphs will examine the most popular destinations by orientation.  "
   ]
  },
  {
   "cell_type": "code",
   "execution_count": null,
   "metadata": {},
   "outputs": [],
   "source": [
    "plt.suptitle('Number of Subscriber Returns at Most Popular End Stations - East Side', weight = 'bold', color = 'black').set_fontsize(20)\n",
    "plt.title('Data from Google BigQuery', color = 'black').set_fontsize(10)\n",
    "sns.barplot('end_count', 'end_station_name', data = east_side_sub_percent_df, edgecolor = 'black') \n",
    "plt.xlabel('Count', weight = 'bold', color = 'black')\n",
    "plt.xticks(rotation=45)\n",
    "plt.ylabel('End Station Name', weight = 'bold', color = 'black')"
   ]
  },
  {
   "cell_type": "markdown",
   "metadata": {},
   "source": [
    "### The most popular east side destinations for subscribers to return bikes to were concentrated between lower and mid-town Manhattan, with the East 17th & Broadway station being the most popular return site. "
   ]
  },
  {
   "cell_type": "code",
   "execution_count": null,
   "metadata": {},
   "outputs": [],
   "source": [
    "west_side_sub_percent = \"\"\" SELECT end_station_name,\n",
    "                    COUNT(end_station_name) AS end_count,\n",
    "                    COUNT(end_station_name) * 100.0 / (SELECT COUNT(*) FROM `bigquery-public-data.new_york_citibike.citibike_trips`) AS end_dest_percent\n",
    "                    FROM `bigquery-public-data.new_york_citibike.citibike_trips`\n",
    "                    WHERE end_station_name LIKE 'W_%' AND usertype = 'Subscriber'\n",
    "                    GROUP BY end_station_name\n",
    "                    ORDER BY end_dest_percent DESC\n",
    "                    LIMIT 15\n",
    "                    \"\"\" "
   ]
  },
  {
   "cell_type": "code",
   "execution_count": null,
   "metadata": {},
   "outputs": [],
   "source": [
    "client = bigquery.Client(project=project_id, credentials=credentials)\n",
    "west_side_sub_percent_df = client.query(west_side_sub_percent).to_dataframe()\n",
    "west_side_sub_percent_df"
   ]
  },
  {
   "cell_type": "code",
   "execution_count": null,
   "metadata": {},
   "outputs": [],
   "source": [
    "plt.suptitle('Number of Subscriber Returns at Most Popular End Stations - West Side', weight = 'bold', color = 'black').set_fontsize(20)\n",
    "plt.title('Data from Google BigQuery', color = 'black').set_fontsize(10)\n",
    "sns.barplot('end_count', 'end_station_name', data = west_side_sub_percent_df, edgecolor = 'black') \n",
    "plt.xlabel('Count', weight = 'bold', color = 'black')\n",
    "plt.xticks(rotation=45, color = 'black')\n",
    "plt.yticks(color = 'black')\n",
    "plt.ylabel('End Station Name', weight = 'bold', color = 'black')"
   ]
  },
  {
   "cell_type": "markdown",
   "metadata": {},
   "source": [
    "### West side returns also seemed to be concentrated largely in lower Manhattan, with the furthest north station being W 41st street & 8th avenue. The most popular return station on the west side was West 21st & 6th avenue. 6th avenue is one of the most popular streets for tourism and transit in the city. "
   ]
  },
  {
   "cell_type": "code",
   "execution_count": null,
   "metadata": {},
   "outputs": [],
   "source": [
    "start_dest_sub_east = \"\"\" SELECT start_station_name, COUNT(start_station_name) AS start_count,\n",
    "                     COUNT(start_station_name) * 100 / (SELECT COUNT(*) FROM `bigquery-public-data.new_york_citibike.citibike_trips`) AS start_dest_percent\n",
    "                     FROM `bigquery-public-data.new_york_citibike.citibike_trips`\n",
    "                     WHERE start_station_name LIKE 'E_%' AND usertype = 'Subscriber'\n",
    "                     GROUP BY start_station_name\n",
    "                     ORDER BY start_dest_percent DESC\n",
    "                     LIMIT 15\n",
    "                    \"\"\" "
   ]
  },
  {
   "cell_type": "code",
   "execution_count": null,
   "metadata": {},
   "outputs": [],
   "source": [
    "client = bigquery.Client(project=project_id, credentials=credentials)\n",
    "start_dest_sub_east_df = client.query(start_dest_sub_east).to_dataframe()\n",
    "start_dest_sub_east_df"
   ]
  },
  {
   "cell_type": "code",
   "execution_count": null,
   "metadata": {},
   "outputs": [],
   "source": [
    "plt.suptitle('Number of Subscriber Rentals at Most Popular Start Stations - East Side', weight = 'bold', color = 'black').set_fontsize(20)\n",
    "plt.title('Data from Google BigQuery', color = 'black').set_fontsize(10)\n",
    "sns.barplot('start_count', 'start_station_name', data = start_dest_sub_east_df, edgecolor = 'black') \n",
    "plt.xlabel('Count', weight = 'bold', color = 'black')\n",
    "plt.xticks(rotation=45, color = 'black')\n",
    "plt.yticks(color = 'black')\n",
    "plt.ylabel('Start Station Name', weight = 'bold', color = 'black')"
   ]
  },
  {
   "cell_type": "markdown",
   "metadata": {},
   "source": [
    "### Some of the most popular starting stations for Citibike subscribers were concentrated on the far east side, since Park Ave and 1st, 2nd and 3rd avenues are as far east as New Yorkers can go before hitting the East River. The most popular start station was the same as the ending destination: East 17th St & Broadway. "
   ]
  },
  {
   "cell_type": "code",
   "execution_count": null,
   "metadata": {},
   "outputs": [],
   "source": [
    "start_dest_sub_west = \"\"\" SELECT start_station_name, COUNT(start_station_name) AS start_count,\n",
    "                     COUNT(start_station_name) * 100 / (SELECT COUNT(*) FROM `bigquery-public-data.new_york_citibike.citibike_trips`) AS start_dest_percent\n",
    "                     FROM `bigquery-public-data.new_york_citibike.citibike_trips`\n",
    "                     WHERE start_station_name LIKE 'W_%' AND usertype = 'Subscriber'\n",
    "                     GROUP BY start_station_name\n",
    "                     ORDER BY start_dest_percent DESC\n",
    "                     LIMIT 15\n",
    "                    \"\"\" "
   ]
  },
  {
   "cell_type": "code",
   "execution_count": null,
   "metadata": {},
   "outputs": [],
   "source": [
    "client = bigquery.Client(project=project_id, credentials=credentials)\n",
    "start_dest_sub_west_df = client.query(start_dest_sub_west).to_dataframe()\n",
    "start_dest_sub_west_df"
   ]
  },
  {
   "cell_type": "code",
   "execution_count": null,
   "metadata": {},
   "outputs": [],
   "source": [
    "plt.suptitle('Number of Subscriber Rentals at Most Popular Start Stations - West Side', weight = 'bold', color = 'black').set_fontsize(20)\n",
    "plt.title('Data from Google BigQuery', color = 'black').set_fontsize(10)\n",
    "sns.barplot('start_count', 'start_station_name', data = start_dest_sub_west_df, edgecolor = 'black') \n",
    "plt.xlabel('Count', weight = 'bold', color = 'black')\n",
    "plt.xticks(rotation=45, color = 'black')\n",
    "plt.yticks(color = 'black')\n",
    "plt.ylabel('Start Station Name', weight = 'bold', color = 'black')"
   ]
  },
  {
   "cell_type": "code",
   "execution_count": null,
   "metadata": {},
   "outputs": [],
   "source": [
    "start_dest_sub_west_cust = \"\"\" SELECT start_station_name, COUNT(start_station_name) AS start_count,\n",
    "                     COUNT(start_station_name) * 100 / (SELECT COUNT(*) FROM `bigquery-public-data.new_york_citibike.citibike_trips`) AS start_dest_percent\n",
    "                     FROM `bigquery-public-data.new_york_citibike.citibike_trips`\n",
    "                     WHERE start_station_name LIKE 'W_%' AND usertype = 'Customer'\n",
    "                     GROUP BY start_station_name\n",
    "                     ORDER BY start_dest_percent DESC\n",
    "                     LIMIT 15\n",
    "                    \"\"\" "
   ]
  },
  {
   "cell_type": "code",
   "execution_count": null,
   "metadata": {},
   "outputs": [],
   "source": [
    "client = bigquery.Client(project=project_id, credentials=credentials)\n",
    "start_dest_sub_west_cust_df = client.query(start_dest_sub_west_cust).to_dataframe()\n",
    "start_dest_sub_west_cust_df"
   ]
  },
  {
   "cell_type": "code",
   "execution_count": null,
   "metadata": {},
   "outputs": [],
   "source": [
    "plt.suptitle('Number of Customer Rentals at Most Popular Start Stations - West Side', weight = 'bold', color = 'black').set_fontsize(20)\n",
    "plt.title('Data from Google BigQuery', color = 'black').set_fontsize(10)\n",
    "sns.barplot('start_count', 'start_station_name', data = start_dest_sub_west_cust_df, edgecolor = 'black') \n",
    "plt.xlabel('Count', weight = 'bold', color = 'black')\n",
    "plt.xticks(rotation=45, color = 'black')\n",
    "plt.yticks(color = 'black')\n",
    "plt.ylabel('Start Station Name', weight = 'bold', color = 'black')"
   ]
  },
  {
   "cell_type": "markdown",
   "metadata": {},
   "source": [
    "### While subscriber rentals were relatively distributed among fifteen stations, customer rentals reveal a stark gap between the leading station and secondary station. In the case of starting rentals, the difference between West St and Washington Street is double (40,000 vs. 80,000). "
   ]
  },
  {
   "cell_type": "code",
   "execution_count": null,
   "metadata": {},
   "outputs": [],
   "source": [
    "end_dest_west_cust = \"\"\" SELECT end_station_name, COUNT(end_station_name) AS end_count,\n",
    "                     COUNT(end_station_name) * 100 / (SELECT COUNT(*) FROM `bigquery-public-data.new_york_citibike.citibike_trips`) AS end_dest_percent\n",
    "                     FROM `bigquery-public-data.new_york_citibike.citibike_trips`\n",
    "                     WHERE end_station_name LIKE 'W_%' AND usertype = 'Customer'\n",
    "                     GROUP BY end_station_name\n",
    "                     ORDER BY end_dest_percent DESC\n",
    "                     LIMIT 15\n",
    "                    \"\"\" "
   ]
  },
  {
   "cell_type": "code",
   "execution_count": null,
   "metadata": {},
   "outputs": [],
   "source": [
    "client = bigquery.Client(project=project_id, credentials=credentials)\n",
    "end_dest_west_cust_df = client.query(end_dest_west_cust).to_dataframe()\n",
    "end_dest_west_cust_df"
   ]
  },
  {
   "cell_type": "code",
   "execution_count": null,
   "metadata": {},
   "outputs": [],
   "source": [
    "plt.suptitle('Number of Customer Rentals at Most Popular End Stations - West Side', weight = 'bold', color = 'black').set_fontsize(20)\n",
    "plt.title('Data from Google BigQuery', color = 'black').set_fontsize(10)\n",
    "sns.barplot('end_count', 'end_station_name', data = end_dest_west_cust_df, edgecolor = 'black') \n",
    "plt.xlabel('Count', weight = 'bold', color = 'black')\n",
    "plt.xticks(rotation=45, color = 'black')\n",
    "plt.yticks(color = 'black')\n",
    "plt.ylabel('Start Station Name', weight = 'bold', color = 'black')"
   ]
  },
  {
   "cell_type": "code",
   "execution_count": null,
   "metadata": {},
   "outputs": [],
   "source": [
    "start_dest_east_cust = \"\"\" SELECT start_station_name, COUNT(start_station_name) AS start_count,\n",
    "                     COUNT(start_station_name) * 100 / (SELECT COUNT(*) FROM `bigquery-public-data.new_york_citibike.citibike_trips`) AS start_dest_percent\n",
    "                     FROM `bigquery-public-data.new_york_citibike.citibike_trips`\n",
    "                     WHERE start_station_name LIKE 'E_%' AND usertype = 'Customer'\n",
    "                     GROUP BY start_station_name\n",
    "                     ORDER BY start_dest_percent DESC\n",
    "                     LIMIT 15\n",
    "                    \"\"\" "
   ]
  },
  {
   "cell_type": "code",
   "execution_count": null,
   "metadata": {},
   "outputs": [],
   "source": [
    "client = bigquery.Client(project=project_id, credentials=credentials)\n",
    "start_dest_east_cust_df = client.query(start_dest_east_cust).to_dataframe()\n",
    "start_dest_east_cust_df"
   ]
  },
  {
   "cell_type": "code",
   "execution_count": null,
   "metadata": {},
   "outputs": [],
   "source": [
    "plt.suptitle('Number of Customer Rentals at Most Popular Stations - East Side', weight = 'bold', color = 'black').set_fontsize(20)\n",
    "plt.title('Data from Google BigQuery', color = 'black').set_fontsize(10)\n",
    "sns.barplot('start_count', 'start_station_name', data = start_dest_east_cust_df, edgecolor = 'black') \n",
    "plt.xlabel('Count', weight = 'bold', color = 'black')\n",
    "plt.xticks(rotation=45, color = 'black')\n",
    "plt.yticks(color = 'black')\n",
    "plt.ylabel('Start Station Name', weight = 'bold', color = 'black')"
   ]
  },
  {
   "cell_type": "markdown",
   "metadata": {},
   "source": [
    "### Predictably, the gap between customer rentals and subscriber rentals persists even when dividing the city into its eastern  and western halves. According to the data, subscribers at both the most popular east and west side stations rented at a rate of 3 times that of customers renting at that same station. "
   ]
  },
  {
   "cell_type": "markdown",
   "metadata": {},
   "source": [
    "### Although Citibike has a significant subscriber presence in New York City, 20% of renters are still only customers, paying a one-time rate instead of a monthly fee. These one-time customers tend to be older, with median and average ages in middle-age range, suggesting that they may be relying on bikes as a form of entertainment while other younger adults subscribe to have a means of consistent transportation. "
   ]
  },
  {
   "cell_type": "markdown",
   "metadata": {},
   "source": [
    "### In addition to seeking to convert customers to regular subscribers, Citibike must also offer incentives to new subscribers to bridge the significant gap between customer rentals at both its east and west side starting andending stations. "
   ]
  }
 ],
 "metadata": {
  "kernelspec": {
   "display_name": "Python 3 (ipykernel)",
   "language": "python",
   "name": "python3"
  },
  "language_info": {
   "codemirror_mode": {
    "name": "ipython",
    "version": 3
   },
   "file_extension": ".py",
   "mimetype": "text/x-python",
   "name": "python",
   "nbconvert_exporter": "python",
   "pygments_lexer": "ipython3",
   "version": "3.12.1"
  }
 },
 "nbformat": 4,
 "nbformat_minor": 4
}
